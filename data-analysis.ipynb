{
 "cells": [
  {
   "cell_type": "code",
   "execution_count": 1,
   "metadata": {},
   "outputs": [],
   "source": [
    "import pandas as pd\n",
    "import numpy as np\n",
    "import matplotlib.pyplot as plt\n",
    "import seaborn as sns\n",
    "import ast\n",
    "%matplotlib inline\n",
    "pd.set_option(\"display.max_columns\", None)\n",
    "import warnings\n",
    "warnings.filterwarnings(\"ignore\")"
   ]
  },
  {
   "cell_type": "code",
   "execution_count": 2,
   "metadata": {},
   "outputs": [
    {
     "data": {
      "text/html": [
       "<div>\n",
       "<style scoped>\n",
       "    .dataframe tbody tr th:only-of-type {\n",
       "        vertical-align: middle;\n",
       "    }\n",
       "\n",
       "    .dataframe tbody tr th {\n",
       "        vertical-align: top;\n",
       "    }\n",
       "\n",
       "    .dataframe thead th {\n",
       "        text-align: right;\n",
       "    }\n",
       "</style>\n",
       "<table border=\"1\" class=\"dataframe\">\n",
       "  <thead>\n",
       "    <tr style=\"text-align: right;\">\n",
       "      <th></th>\n",
       "      <th>tagline</th>\n",
       "      <th>basic_description</th>\n",
       "      <th>description</th>\n",
       "      <th>superhost</th>\n",
       "      <th>response_rate</th>\n",
       "      <th>host_description</th>\n",
       "      <th>discounted_price</th>\n",
       "      <th>original_price</th>\n",
       "      <th>average_rating</th>\n",
       "      <th>num_reviews</th>\n",
       "      <th>Guests</th>\n",
       "      <th>Bedrooms</th>\n",
       "      <th>Beds</th>\n",
       "      <th>response_time</th>\n",
       "      <th>cleanliness_rating</th>\n",
       "      <th>accuracy_rating</th>\n",
       "      <th>checkin_rating</th>\n",
       "      <th>communication_rating</th>\n",
       "      <th>location_rating</th>\n",
       "      <th>value_rating</th>\n",
       "      <th>Per_Night</th>\n",
       "      <th>Cleaning_Fee</th>\n",
       "      <th>Airbnb_Fee</th>\n",
       "      <th>checkin_time</th>\n",
       "      <th>checkout_time</th>\n",
       "      <th>Available_Amenities</th>\n",
       "      <th>Unavailable_Amenities</th>\n",
       "    </tr>\n",
       "  </thead>\n",
       "  <tbody>\n",
       "    <tr>\n",
       "      <th>0</th>\n",
       "      <td>Cute Inner City Haven with Country-like Serenity</td>\n",
       "      <td>home</td>\n",
       "      <td>Welcome to our unique home, offering country s...</td>\n",
       "      <td>1</td>\n",
       "      <td>100</td>\n",
       "      <td>1</td>\n",
       "      <td>118</td>\n",
       "      <td>118</td>\n",
       "      <td>5.00</td>\n",
       "      <td>19</td>\n",
       "      <td>2</td>\n",
       "      <td>1</td>\n",
       "      <td>1</td>\n",
       "      <td>Responds within an hour</td>\n",
       "      <td>5.0</td>\n",
       "      <td>5.0</td>\n",
       "      <td>5.0</td>\n",
       "      <td>5.0</td>\n",
       "      <td>5.0</td>\n",
       "      <td>5.0</td>\n",
       "      <td>118.0</td>\n",
       "      <td>0.0</td>\n",
       "      <td>0.0</td>\n",
       "      <td>Check-in after 4:00 p.m.</td>\n",
       "      <td>Checkout before 11:00 a.m.</td>\n",
       "      <td>['Hair dryer', 'Hot water', 'Washer', 'HDTV', ...</td>\n",
       "      <td>['Dryer', 'Air conditioning', 'Essentials']</td>\n",
       "    </tr>\n",
       "    <tr>\n",
       "      <th>1</th>\n",
       "      <td>Modern suite overlooking downtown</td>\n",
       "      <td>guest suite</td>\n",
       "      <td>In Calgary's most vibrant neighborhood, overlo...</td>\n",
       "      <td>1</td>\n",
       "      <td>100</td>\n",
       "      <td>1</td>\n",
       "      <td>131</td>\n",
       "      <td>131</td>\n",
       "      <td>4.94</td>\n",
       "      <td>69</td>\n",
       "      <td>2</td>\n",
       "      <td>1</td>\n",
       "      <td>1</td>\n",
       "      <td>Responds within an hour</td>\n",
       "      <td>4.9</td>\n",
       "      <td>5.0</td>\n",
       "      <td>5.0</td>\n",
       "      <td>5.0</td>\n",
       "      <td>5.0</td>\n",
       "      <td>4.9</td>\n",
       "      <td>90.0</td>\n",
       "      <td>100.0</td>\n",
       "      <td>78.0</td>\n",
       "      <td>Check-in: 4:00 p.m.–11:00 p.m.</td>\n",
       "      <td>Checkout before 11:00 a.m.</td>\n",
       "      <td>['City skyline view', 'Bathtub', 'Hair dryer',...</td>\n",
       "      <td>['Exterior security cameras on property', 'Air...</td>\n",
       "    </tr>\n",
       "    <tr>\n",
       "      <th>2</th>\n",
       "      <td>Bridgeland Inner City Suite</td>\n",
       "      <td>guest suite</td>\n",
       "      <td>Welcome to our Bridgeland Inner City suite.  T...</td>\n",
       "      <td>1</td>\n",
       "      <td>100</td>\n",
       "      <td>1</td>\n",
       "      <td>130</td>\n",
       "      <td>130</td>\n",
       "      <td>4.87</td>\n",
       "      <td>53</td>\n",
       "      <td>2</td>\n",
       "      <td>1</td>\n",
       "      <td>1</td>\n",
       "      <td>Responds within an hour</td>\n",
       "      <td>4.9</td>\n",
       "      <td>4.9</td>\n",
       "      <td>5.0</td>\n",
       "      <td>4.9</td>\n",
       "      <td>4.9</td>\n",
       "      <td>4.9</td>\n",
       "      <td>90.0</td>\n",
       "      <td>75.0</td>\n",
       "      <td>74.0</td>\n",
       "      <td>Check-in after 3:00 p.m.</td>\n",
       "      <td>Checkout before 11:00 a.m.</td>\n",
       "      <td>['Bathtub', 'Hair dryer', 'Cleaning products',...</td>\n",
       "      <td>['Exterior security cameras on property', 'Air...</td>\n",
       "    </tr>\n",
       "    <tr>\n",
       "      <th>3</th>\n",
       "      <td>Cozy Suite In The Heart Of Bridgeland - BL246108</td>\n",
       "      <td>rental unit</td>\n",
       "      <td>Welcome to Calgary and we invite you to Bridge...</td>\n",
       "      <td>1</td>\n",
       "      <td>100</td>\n",
       "      <td>1</td>\n",
       "      <td>90</td>\n",
       "      <td>90</td>\n",
       "      <td>4.84</td>\n",
       "      <td>267</td>\n",
       "      <td>3</td>\n",
       "      <td>1</td>\n",
       "      <td>2</td>\n",
       "      <td>Responds within an hour</td>\n",
       "      <td>4.9</td>\n",
       "      <td>4.8</td>\n",
       "      <td>4.9</td>\n",
       "      <td>4.9</td>\n",
       "      <td>4.9</td>\n",
       "      <td>4.8</td>\n",
       "      <td>61.0</td>\n",
       "      <td>60.0</td>\n",
       "      <td>51.0</td>\n",
       "      <td>Check-in after 3:00 p.m.</td>\n",
       "      <td>Checkout before 11:00 a.m.</td>\n",
       "      <td>['Hair dryer', 'Shampoo', 'Conditioner', 'Hot ...</td>\n",
       "      <td>['Exterior security cameras on property', 'Kit...</td>\n",
       "    </tr>\n",
       "    <tr>\n",
       "      <th>4</th>\n",
       "      <td>Mid Century Zen Suite. 1 BR. Near DT, C-train.</td>\n",
       "      <td>home</td>\n",
       "      <td>Unique updated century home - this charming 1 ...</td>\n",
       "      <td>1</td>\n",
       "      <td>100</td>\n",
       "      <td>1</td>\n",
       "      <td>121</td>\n",
       "      <td>121</td>\n",
       "      <td>4.93</td>\n",
       "      <td>136</td>\n",
       "      <td>3</td>\n",
       "      <td>1</td>\n",
       "      <td>1</td>\n",
       "      <td>Responds within an hour</td>\n",
       "      <td>4.9</td>\n",
       "      <td>4.9</td>\n",
       "      <td>4.9</td>\n",
       "      <td>5.0</td>\n",
       "      <td>5.0</td>\n",
       "      <td>4.8</td>\n",
       "      <td>80.0</td>\n",
       "      <td>89.0</td>\n",
       "      <td>69.0</td>\n",
       "      <td>Check-in after 3:00 p.m.</td>\n",
       "      <td>Checkout before 11:00 a.m.</td>\n",
       "      <td>['Garden view', 'Bathtub', 'Hair dryer', 'Clea...</td>\n",
       "      <td>['Exterior security cameras on property', 'Air...</td>\n",
       "    </tr>\n",
       "  </tbody>\n",
       "</table>\n",
       "</div>"
      ],
      "text/plain": [
       "                                            tagline basic_description  \\\n",
       "0  Cute Inner City Haven with Country-like Serenity              home   \n",
       "1                 Modern suite overlooking downtown       guest suite   \n",
       "2                       Bridgeland Inner City Suite       guest suite   \n",
       "3  Cozy Suite In The Heart Of Bridgeland - BL246108       rental unit   \n",
       "4    Mid Century Zen Suite. 1 BR. Near DT, C-train.              home   \n",
       "\n",
       "                                         description  superhost  \\\n",
       "0  Welcome to our unique home, offering country s...          1   \n",
       "1  In Calgary's most vibrant neighborhood, overlo...          1   \n",
       "2  Welcome to our Bridgeland Inner City suite.  T...          1   \n",
       "3  Welcome to Calgary and we invite you to Bridge...          1   \n",
       "4  Unique updated century home - this charming 1 ...          1   \n",
       "\n",
       "   response_rate  host_description  discounted_price  original_price  \\\n",
       "0            100                 1               118             118   \n",
       "1            100                 1               131             131   \n",
       "2            100                 1               130             130   \n",
       "3            100                 1                90              90   \n",
       "4            100                 1               121             121   \n",
       "\n",
       "   average_rating  num_reviews  Guests  Bedrooms  Beds  \\\n",
       "0            5.00           19       2         1     1   \n",
       "1            4.94           69       2         1     1   \n",
       "2            4.87           53       2         1     1   \n",
       "3            4.84          267       3         1     2   \n",
       "4            4.93          136       3         1     1   \n",
       "\n",
       "             response_time  cleanliness_rating  accuracy_rating  \\\n",
       "0  Responds within an hour                 5.0              5.0   \n",
       "1  Responds within an hour                 4.9              5.0   \n",
       "2  Responds within an hour                 4.9              4.9   \n",
       "3  Responds within an hour                 4.9              4.8   \n",
       "4  Responds within an hour                 4.9              4.9   \n",
       "\n",
       "   checkin_rating  communication_rating  location_rating  value_rating  \\\n",
       "0             5.0                   5.0              5.0           5.0   \n",
       "1             5.0                   5.0              5.0           4.9   \n",
       "2             5.0                   4.9              4.9           4.9   \n",
       "3             4.9                   4.9              4.9           4.8   \n",
       "4             4.9                   5.0              5.0           4.8   \n",
       "\n",
       "   Per_Night  Cleaning_Fee  Airbnb_Fee                    checkin_time  \\\n",
       "0      118.0           0.0         0.0        Check-in after 4:00 p.m.   \n",
       "1       90.0         100.0        78.0  Check-in: 4:00 p.m.–11:00 p.m.   \n",
       "2       90.0          75.0        74.0        Check-in after 3:00 p.m.   \n",
       "3       61.0          60.0        51.0        Check-in after 3:00 p.m.   \n",
       "4       80.0          89.0        69.0        Check-in after 3:00 p.m.   \n",
       "\n",
       "                checkout_time  \\\n",
       "0  Checkout before 11:00 a.m.   \n",
       "1  Checkout before 11:00 a.m.   \n",
       "2  Checkout before 11:00 a.m.   \n",
       "3  Checkout before 11:00 a.m.   \n",
       "4  Checkout before 11:00 a.m.   \n",
       "\n",
       "                                 Available_Amenities  \\\n",
       "0  ['Hair dryer', 'Hot water', 'Washer', 'HDTV', ...   \n",
       "1  ['City skyline view', 'Bathtub', 'Hair dryer',...   \n",
       "2  ['Bathtub', 'Hair dryer', 'Cleaning products',...   \n",
       "3  ['Hair dryer', 'Shampoo', 'Conditioner', 'Hot ...   \n",
       "4  ['Garden view', 'Bathtub', 'Hair dryer', 'Clea...   \n",
       "\n",
       "                               Unavailable_Amenities  \n",
       "0        ['Dryer', 'Air conditioning', 'Essentials']  \n",
       "1  ['Exterior security cameras on property', 'Air...  \n",
       "2  ['Exterior security cameras on property', 'Air...  \n",
       "3  ['Exterior security cameras on property', 'Kit...  \n",
       "4  ['Exterior security cameras on property', 'Air...  "
      ]
     },
     "execution_count": 2,
     "metadata": {},
     "output_type": "execute_result"
    }
   ],
   "source": [
    "df = pd.read_csv(\"../data/cleaned_df_v2.csv\")\n",
    "df.head()"
   ]
  },
  {
   "cell_type": "markdown",
   "metadata": {},
   "source": [
    "### Basic description (property type)"
   ]
  },
  {
   "cell_type": "code",
   "execution_count": 3,
   "metadata": {},
   "outputs": [
    {
     "data": {
      "text/plain": [
       "basic_description\n",
       "rental unit             89\n",
       "condo                   78\n",
       "home                    47\n",
       "guest suite             25\n",
       "Room                     9\n",
       "guesthouse               5\n",
       "townhouse                5\n",
       "loft                     4\n",
       "bungalow                 4\n",
       "cottage                  1\n",
       "place                    1\n",
       "Private room in home     1\n",
       "Room in hotel            1\n",
       "Name: count, dtype: int64"
      ]
     },
     "execution_count": 3,
     "metadata": {},
     "output_type": "execute_result"
    }
   ],
   "source": [
    "df[\"basic_description\"].value_counts()"
   ]
  },
  {
   "cell_type": "code",
   "execution_count": 4,
   "metadata": {},
   "outputs": [],
   "source": [
    "## drop Room in hotel\n",
    "df = df[df[\"basic_description\"] != \"Room in hotel\"]"
   ]
  },
  {
   "cell_type": "code",
   "execution_count": 5,
   "metadata": {},
   "outputs": [],
   "source": [
    "## replace place with condo\n",
    "df[\"basic_description\"] = df[\"basic_description\"].replace(\"place\", \"condo\")\n",
    "## replace Private room in home with Room\n",
    "df[\"basic_description\"] = df[\"basic_description\"].replace(\n",
    "    \"Private room in home\", \"Room\"\n",
    ")"
   ]
  },
  {
   "cell_type": "code",
   "execution_count": 6,
   "metadata": {},
   "outputs": [
    {
     "data": {
      "text/html": [
       "<div>\n",
       "<style scoped>\n",
       "    .dataframe tbody tr th:only-of-type {\n",
       "        vertical-align: middle;\n",
       "    }\n",
       "\n",
       "    .dataframe tbody tr th {\n",
       "        vertical-align: top;\n",
       "    }\n",
       "\n",
       "    .dataframe thead th {\n",
       "        text-align: right;\n",
       "    }\n",
       "</style>\n",
       "<table border=\"1\" class=\"dataframe\">\n",
       "  <thead>\n",
       "    <tr style=\"text-align: right;\">\n",
       "      <th></th>\n",
       "      <th>Property Type</th>\n",
       "      <th>Count</th>\n",
       "      <th>Median Price Per Night</th>\n",
       "      <th>Total Reviews</th>\n",
       "    </tr>\n",
       "  </thead>\n",
       "  <tbody>\n",
       "    <tr>\n",
       "      <th>9</th>\n",
       "      <td>cottage</td>\n",
       "      <td>1</td>\n",
       "      <td>135.0</td>\n",
       "      <td>181</td>\n",
       "    </tr>\n",
       "    <tr>\n",
       "      <th>6</th>\n",
       "      <td>townhouse</td>\n",
       "      <td>5</td>\n",
       "      <td>131.0</td>\n",
       "      <td>241</td>\n",
       "    </tr>\n",
       "    <tr>\n",
       "      <th>7</th>\n",
       "      <td>loft</td>\n",
       "      <td>4</td>\n",
       "      <td>130.5</td>\n",
       "      <td>245</td>\n",
       "    </tr>\n",
       "    <tr>\n",
       "      <th>5</th>\n",
       "      <td>guesthouse</td>\n",
       "      <td>5</td>\n",
       "      <td>125.0</td>\n",
       "      <td>637</td>\n",
       "    </tr>\n",
       "    <tr>\n",
       "      <th>2</th>\n",
       "      <td>home</td>\n",
       "      <td>47</td>\n",
       "      <td>123.0</td>\n",
       "      <td>2871</td>\n",
       "    </tr>\n",
       "    <tr>\n",
       "      <th>1</th>\n",
       "      <td>condo</td>\n",
       "      <td>79</td>\n",
       "      <td>115.0</td>\n",
       "      <td>8543</td>\n",
       "    </tr>\n",
       "    <tr>\n",
       "      <th>0</th>\n",
       "      <td>rental unit</td>\n",
       "      <td>89</td>\n",
       "      <td>97.0</td>\n",
       "      <td>3945</td>\n",
       "    </tr>\n",
       "    <tr>\n",
       "      <th>8</th>\n",
       "      <td>bungalow</td>\n",
       "      <td>4</td>\n",
       "      <td>89.5</td>\n",
       "      <td>536</td>\n",
       "    </tr>\n",
       "    <tr>\n",
       "      <th>3</th>\n",
       "      <td>guest suite</td>\n",
       "      <td>25</td>\n",
       "      <td>82.0</td>\n",
       "      <td>2900</td>\n",
       "    </tr>\n",
       "    <tr>\n",
       "      <th>4</th>\n",
       "      <td>Room</td>\n",
       "      <td>10</td>\n",
       "      <td>45.0</td>\n",
       "      <td>892</td>\n",
       "    </tr>\n",
       "  </tbody>\n",
       "</table>\n",
       "</div>"
      ],
      "text/plain": [
       "  Property Type  Count  Median Price Per Night  Total Reviews\n",
       "9       cottage      1                   135.0            181\n",
       "6     townhouse      5                   131.0            241\n",
       "7          loft      4                   130.5            245\n",
       "5    guesthouse      5                   125.0            637\n",
       "2          home     47                   123.0           2871\n",
       "1         condo     79                   115.0           8543\n",
       "0   rental unit     89                    97.0           3945\n",
       "8      bungalow      4                    89.5            536\n",
       "3   guest suite     25                    82.0           2900\n",
       "4          Room     10                    45.0            892"
      ]
     },
     "execution_count": 6,
     "metadata": {},
     "output_type": "execute_result"
    }
   ],
   "source": [
    "## median price for each basic description\n",
    "median_price = df.groupby(\"basic_description\")[\"Per_Night\"].median().reset_index()\n",
    "median_price.columns = [\"Property Type\", \"Median Price Per Night\"]\n",
    "median_price = median_price.sort_values(\"Median Price Per Night\", ascending=False)\n",
    "\n",
    "## add value_counts to the table\n",
    "value_counts = df[\"basic_description\"].value_counts().reset_index()\n",
    "value_counts.columns = [\"Property Type\", \"Count\"]\n",
    "median_price = value_counts.merge(median_price, on=\"Property Type\")\n",
    "\n",
    "## adding sum num_reviews as well (which is our proxy for number of bookings (demand))\n",
    "num_reviews = df.groupby(\"basic_description\")[\"num_reviews\"].sum().reset_index()\n",
    "num_reviews.columns = [\"Property Type\", \"Total Reviews\"]\n",
    "median_price = median_price.merge(num_reviews, on=\"Property Type\")\n",
    "\n",
    "median_price = median_price.sort_values(\"Median Price Per Night\", ascending=False)\n",
    "median_price"
   ]
  },
  {
   "cell_type": "markdown",
   "metadata": {},
   "source": [
    "### Market gaps:\n",
    "\n",
    "- Cottages, Townhouses, and Lofts - median price per night is high and the number of properties is less.\n",
    "- These have low supply but high demand\n",
    "- Oversaturated property types include rental units, condos and guest suites"
   ]
  },
  {
   "cell_type": "code",
   "execution_count": 7,
   "metadata": {},
   "outputs": [
    {
     "data": {
      "text/html": [
       "<div>\n",
       "<style scoped>\n",
       "    .dataframe tbody tr th:only-of-type {\n",
       "        vertical-align: middle;\n",
       "    }\n",
       "\n",
       "    .dataframe tbody tr th {\n",
       "        vertical-align: top;\n",
       "    }\n",
       "\n",
       "    .dataframe thead th {\n",
       "        text-align: right;\n",
       "    }\n",
       "</style>\n",
       "<table border=\"1\" class=\"dataframe\">\n",
       "  <thead>\n",
       "    <tr style=\"text-align: right;\">\n",
       "      <th></th>\n",
       "      <th>Property Type</th>\n",
       "      <th>Total Reviews</th>\n",
       "      <th>Median Rating</th>\n",
       "    </tr>\n",
       "  </thead>\n",
       "  <tbody>\n",
       "    <tr>\n",
       "      <th>5</th>\n",
       "      <td>guesthouse</td>\n",
       "      <td>637</td>\n",
       "      <td>4.980</td>\n",
       "    </tr>\n",
       "    <tr>\n",
       "      <th>2</th>\n",
       "      <td>condo</td>\n",
       "      <td>8543</td>\n",
       "      <td>4.920</td>\n",
       "    </tr>\n",
       "    <tr>\n",
       "      <th>6</th>\n",
       "      <td>home</td>\n",
       "      <td>2871</td>\n",
       "      <td>4.910</td>\n",
       "    </tr>\n",
       "    <tr>\n",
       "      <th>9</th>\n",
       "      <td>townhouse</td>\n",
       "      <td>241</td>\n",
       "      <td>4.910</td>\n",
       "    </tr>\n",
       "    <tr>\n",
       "      <th>4</th>\n",
       "      <td>guest suite</td>\n",
       "      <td>2900</td>\n",
       "      <td>4.900</td>\n",
       "    </tr>\n",
       "    <tr>\n",
       "      <th>7</th>\n",
       "      <td>loft</td>\n",
       "      <td>245</td>\n",
       "      <td>4.885</td>\n",
       "    </tr>\n",
       "    <tr>\n",
       "      <th>3</th>\n",
       "      <td>cottage</td>\n",
       "      <td>181</td>\n",
       "      <td>4.880</td>\n",
       "    </tr>\n",
       "    <tr>\n",
       "      <th>1</th>\n",
       "      <td>bungalow</td>\n",
       "      <td>536</td>\n",
       "      <td>4.875</td>\n",
       "    </tr>\n",
       "    <tr>\n",
       "      <th>0</th>\n",
       "      <td>Room</td>\n",
       "      <td>892</td>\n",
       "      <td>4.845</td>\n",
       "    </tr>\n",
       "    <tr>\n",
       "      <th>8</th>\n",
       "      <td>rental unit</td>\n",
       "      <td>3945</td>\n",
       "      <td>4.840</td>\n",
       "    </tr>\n",
       "  </tbody>\n",
       "</table>\n",
       "</div>"
      ],
      "text/plain": [
       "  Property Type  Total Reviews  Median Rating\n",
       "5    guesthouse            637          4.980\n",
       "2         condo           8543          4.920\n",
       "6          home           2871          4.910\n",
       "9     townhouse            241          4.910\n",
       "4   guest suite           2900          4.900\n",
       "7          loft            245          4.885\n",
       "3       cottage            181          4.880\n",
       "1      bungalow            536          4.875\n",
       "0          Room            892          4.845\n",
       "8   rental unit           3945          4.840"
      ]
     },
     "execution_count": 7,
     "metadata": {},
     "output_type": "execute_result"
    }
   ],
   "source": [
    "## median average rating for each basic description\n",
    "median_rating = df.groupby(\"basic_description\")[\"average_rating\"].median().reset_index()\n",
    "median_rating.columns = [\"Property Type\", \"Median Rating\"]\n",
    "median_rating = median_rating.sort_values(\"Median Rating\", ascending=False)\n",
    "\n",
    "## adding num_reviews to the table\n",
    "num_reviews = df.groupby(\"basic_description\")[\"num_reviews\"].sum().reset_index()\n",
    "num_reviews.columns = [\"Property Type\", \"Total Reviews\"]\n",
    "median_rating = num_reviews.merge(median_rating, on=\"Property Type\")\n",
    "median_rating = median_rating.sort_values(\"Median Rating\", ascending=False)\n",
    "median_rating"
   ]
  },
  {
   "cell_type": "markdown",
   "metadata": {},
   "source": [
    "The only cottage in the area has a rating of 4.88 out of 181 reviews which is less compared to other proprty types. Therefore, the opportunity arises if the host can provide better and high-quality serivces for the likes of cottages and lofts, the host can start to win the area."
   ]
  },
  {
   "cell_type": "code",
   "execution_count": 8,
   "metadata": {},
   "outputs": [
    {
     "data": {
      "text/html": [
       "<div>\n",
       "<style scoped>\n",
       "    .dataframe tbody tr th:only-of-type {\n",
       "        vertical-align: middle;\n",
       "    }\n",
       "\n",
       "    .dataframe tbody tr th {\n",
       "        vertical-align: top;\n",
       "    }\n",
       "\n",
       "    .dataframe thead th {\n",
       "        text-align: right;\n",
       "    }\n",
       "</style>\n",
       "<table border=\"1\" class=\"dataframe\">\n",
       "  <thead>\n",
       "    <tr style=\"text-align: right;\">\n",
       "      <th></th>\n",
       "      <th>Property Type</th>\n",
       "      <th>Median Cleaning Fee</th>\n",
       "      <th>Median Cleanliness Rating</th>\n",
       "    </tr>\n",
       "  </thead>\n",
       "  <tbody>\n",
       "    <tr>\n",
       "      <th>0</th>\n",
       "      <td>townhouse</td>\n",
       "      <td>130.0</td>\n",
       "      <td>4.80</td>\n",
       "    </tr>\n",
       "    <tr>\n",
       "      <th>1</th>\n",
       "      <td>cottage</td>\n",
       "      <td>125.0</td>\n",
       "      <td>4.90</td>\n",
       "    </tr>\n",
       "    <tr>\n",
       "      <th>2</th>\n",
       "      <td>home</td>\n",
       "      <td>99.0</td>\n",
       "      <td>4.90</td>\n",
       "    </tr>\n",
       "    <tr>\n",
       "      <th>3</th>\n",
       "      <td>guesthouse</td>\n",
       "      <td>90.0</td>\n",
       "      <td>5.00</td>\n",
       "    </tr>\n",
       "    <tr>\n",
       "      <th>4</th>\n",
       "      <td>condo</td>\n",
       "      <td>79.0</td>\n",
       "      <td>4.90</td>\n",
       "    </tr>\n",
       "    <tr>\n",
       "      <th>5</th>\n",
       "      <td>rental unit</td>\n",
       "      <td>70.0</td>\n",
       "      <td>4.80</td>\n",
       "    </tr>\n",
       "    <tr>\n",
       "      <th>6</th>\n",
       "      <td>bungalow</td>\n",
       "      <td>65.0</td>\n",
       "      <td>4.80</td>\n",
       "    </tr>\n",
       "    <tr>\n",
       "      <th>7</th>\n",
       "      <td>guest suite</td>\n",
       "      <td>60.0</td>\n",
       "      <td>4.90</td>\n",
       "    </tr>\n",
       "    <tr>\n",
       "      <th>8</th>\n",
       "      <td>loft</td>\n",
       "      <td>40.0</td>\n",
       "      <td>4.95</td>\n",
       "    </tr>\n",
       "    <tr>\n",
       "      <th>9</th>\n",
       "      <td>Room</td>\n",
       "      <td>5.0</td>\n",
       "      <td>4.90</td>\n",
       "    </tr>\n",
       "  </tbody>\n",
       "</table>\n",
       "</div>"
      ],
      "text/plain": [
       "  Property Type  Median Cleaning Fee  Median Cleanliness Rating\n",
       "0     townhouse                130.0                       4.80\n",
       "1       cottage                125.0                       4.90\n",
       "2          home                 99.0                       4.90\n",
       "3    guesthouse                 90.0                       5.00\n",
       "4         condo                 79.0                       4.90\n",
       "5   rental unit                 70.0                       4.80\n",
       "6      bungalow                 65.0                       4.80\n",
       "7   guest suite                 60.0                       4.90\n",
       "8          loft                 40.0                       4.95\n",
       "9          Room                  5.0                       4.90"
      ]
     },
     "execution_count": 8,
     "metadata": {},
     "output_type": "execute_result"
    }
   ],
   "source": [
    "## average cleaning_fee for each basic description\n",
    "average_cleaning_fee = np.round(\n",
    "    df.groupby(\"basic_description\")[\"Cleaning_Fee\"].median(), 2\n",
    ").reset_index()\n",
    "average_cleaning_fee.columns = [\"Property Type\", \"Median Cleaning Fee\"]\n",
    "average_cleaning_fee = average_cleaning_fee.sort_values(\n",
    "    \"Median Cleaning Fee\", ascending=False\n",
    ")\n",
    "\n",
    "## add average cleanliness_rating to the table\n",
    "average_cleanliness_rating = np.round(\n",
    "    df.groupby(\"basic_description\")[\"cleanliness_rating\"].median(), 2\n",
    ").reset_index()\n",
    "average_cleanliness_rating.columns = [\"Property Type\", \"Median Cleanliness Rating\"]\n",
    "average_cleanliness_rating = average_cleanliness_rating.sort_values(\n",
    "    \"Median Cleanliness Rating\", ascending=False\n",
    ")\n",
    "\n",
    "average_cleaning_fee = average_cleaning_fee.merge(\n",
    "    average_cleanliness_rating, on=\"Property Type\"\n",
    ")\n",
    "average_cleaning_fee = average_cleaning_fee.sort_values(\n",
    "    \"Median Cleaning Fee\", ascending=False\n",
    ")\n",
    "average_cleaning_fee"
   ]
  },
  {
   "cell_type": "markdown",
   "metadata": {},
   "source": [
    "cottage and townhouse even after charging very high amount for cleaning fee (due to the area and number of amenitites) does not have a perfect cleanliness ratings. So clearly we can say that there is a market for cottages and townhouses, with more high-quality services including better cleaning services."
   ]
  },
  {
   "cell_type": "markdown",
   "metadata": {},
   "source": [
    "### Cleaning Fee vs Cleaning Rating and other metrics"
   ]
  },
  {
   "cell_type": "code",
   "execution_count": 9,
   "metadata": {},
   "outputs": [
    {
     "data": {
      "image/png": "[encoded data removed]",
      "text/plain": [
       "<Figure size 500x500 with 1 Axes>"
      ]
     },
     "metadata": {},
     "output_type": "display_data"
    }
   ],
   "source": [
    "## Cleaning_Fee to cleanliness_rating scatter plot\n",
    "plt.figure(figsize=(5, 5))\n",
    "sns.scatterplot(\n",
    "    x=\"cleanliness_rating\", y=\"Cleaning_Fee\", data=df[df[\"cleanliness_rating\"] > 4]\n",
    ")\n",
    "plt.title(\"Cleaning Fee vs Cleanliness Rating\")\n",
    "plt.xlabel(\"Cleanliness Rating\")\n",
    "plt.ylabel(\"Cleanling Fee\")\n",
    "plt.show()"
   ]
  },
  {
   "cell_type": "code",
   "execution_count": 10,
   "metadata": {},
   "outputs": [
    {
     "data": {
      "image/png": "[encoded data removed]",
      "text/plain": [
       "<Figure size 500x500 with 1 Axes>"
      ]
     },
     "metadata": {},
     "output_type": "display_data"
    }
   ],
   "source": [
    "## cleaning_fee to average_rating scatter plot\n",
    "plt.figure(figsize=(5, 5))\n",
    "sns.scatterplot(\n",
    "    x=\"average_rating\", y=\"Cleaning_Fee\", data=df[df[\"average_rating\"] > 4]\n",
    ")\n",
    "plt.title(\"Cleaning Fee vs Average Rating\")\n",
    "plt.xlabel(\"Average Rating\")\n",
    "plt.ylabel(\"Cleanling Fee\")\n",
    "plt.show()"
   ]
  },
  {
   "cell_type": "markdown",
   "metadata": {},
   "source": [
    "Looks like people prefer to have lesser cleaning fee in order to give higher rating"
   ]
  },
  {
   "cell_type": "code",
   "execution_count": 11,
   "metadata": {},
   "outputs": [
    {
     "data": {
      "image/png": "[encoded data removed]",
      "text/plain": [
       "<Figure size 500x500 with 1 Axes>"
      ]
     },
     "metadata": {},
     "output_type": "display_data"
    }
   ],
   "source": [
    "## cleaning_fee to num_reviews scatter plot\n",
    "plt.figure(figsize=(5, 5))\n",
    "sns.scatterplot(x=\"Cleaning_Fee\", y=\"num_reviews\", data=df)\n",
    "plt.title(\"Cleaning Fee vs Number of Reviews\")\n",
    "plt.xlabel(\"Cleanling Fee\")\n",
    "plt.ylabel(\"Number of Reviews\")\n",
    "plt.show()"
   ]
  },
  {
   "cell_type": "markdown",
   "metadata": {},
   "source": [
    "High number of reviews mean that cleaning fee should be less than a $100. Therefore, we can say that cleaning fee does impact the purchasing for a customer."
   ]
  },
  {
   "cell_type": "markdown",
   "metadata": {},
   "source": [
    "### High-performing listings"
   ]
  },
  {
   "cell_type": "code",
   "execution_count": 12,
   "metadata": {},
   "outputs": [
    {
     "data": {
      "text/plain": [
       "count    269.000000\n",
       "mean       4.272156\n",
       "std        1.630809\n",
       "min        0.000000\n",
       "25%        4.790000\n",
       "50%        4.900000\n",
       "75%        4.960000\n",
       "max        5.000000\n",
       "Name: average_rating, dtype: float64"
      ]
     },
     "execution_count": 12,
     "metadata": {},
     "output_type": "execute_result"
    }
   ],
   "source": [
    "df[\"average_rating\"].describe()"
   ]
  },
  {
   "cell_type": "markdown",
   "metadata": {},
   "source": [
    "min of 0 would mean that the property is new and does not have any customers yet"
   ]
  },
  {
   "cell_type": "code",
   "execution_count": 13,
   "metadata": {},
   "outputs": [
    {
     "data": {
      "text/plain": [
       "<Figure size 500x500 with 0 Axes>"
      ]
     },
     "metadata": {},
     "output_type": "display_data"
    },
    {
     "data": {
      "image/png": "[encoded data removed]",
      "text/plain": [
       "<Figure size 500x500 with 1 Axes>"
      ]
     },
     "metadata": {},
     "output_type": "display_data"
    }
   ],
   "source": [
    "## distribution of average rating\n",
    "plt.figure(figsize=(5, 5))\n",
    "sns.displot(df[\"average_rating\"])\n",
    "plt.title(\"Distribution of Average Rating\")\n",
    "plt.xlabel (\"Average Rating\")\n",
    "plt.show()"
   ]
  },
  {
   "cell_type": "markdown",
   "metadata": {},
   "source": [
    "For high performing listings we can remove the 0 average_rating and then look at the rest of the data."
   ]
  },
  {
   "cell_type": "code",
   "execution_count": 14,
   "metadata": {},
   "outputs": [
    {
     "data": {
      "text/plain": [
       "<Figure size 500x500 with 0 Axes>"
      ]
     },
     "metadata": {},
     "output_type": "display_data"
    },
    {
     "data": {
      "image/png": "[encoded data removed]",
      "text/plain": [
       "<Figure size 500x500 with 1 Axes>"
      ]
     },
     "metadata": {},
     "output_type": "display_data"
    }
   ],
   "source": [
    "## distribution of average rating (removing 0 rating)\n",
    "plt.figure(figsize=(5, 5))\n",
    "sns.displot(df[df[\"average_rating\"] > 0][\"average_rating\"])\n",
    "plt.title(\"Distribution of Average Rating\")\n",
    "plt.xlabel (\"Average Rating\")\n",
    "plt.show()"
   ]
  },
  {
   "cell_type": "code",
   "execution_count": 15,
   "metadata": {},
   "outputs": [],
   "source": [
    "df_rating_non_zero = df[df[\"average_rating\"] > 0]"
   ]
  },
  {
   "cell_type": "code",
   "execution_count": 16,
   "metadata": {},
   "outputs": [
    {
     "name": "stdout",
     "output_type": "stream",
     "text": [
      "Number of listing with rating = 5 is: 43, which is 15.99% of total listings\n"
     ]
    }
   ],
   "source": [
    "num_listings_5_rating = df_rating_non_zero[\n",
    "    df_rating_non_zero[\"average_rating\"] == 5\n",
    "].shape[0]\n",
    "print(\n",
    "    f\"Number of listing with rating = 5 is: {num_listings_5_rating}, which is {np.round(num_listings_5_rating/df.shape[0]*100, 2)}% of total listings\"\n",
    ")"
   ]
  },
  {
   "cell_type": "markdown",
   "metadata": {},
   "source": [
    "Since there are 16% of listings with perfect average_review, therefore, we will consider them top-performing listings and then compare other metrics and find out why they are at the top"
   ]
  },
  {
   "cell_type": "code",
   "execution_count": 17,
   "metadata": {},
   "outputs": [],
   "source": [
    "listings_5_rating = df_rating_non_zero[df_rating_non_zero[\"average_rating\"] == 5]\n",
    "listings_non_5_rating = df_rating_non_zero[df_rating_non_zero[\"average_rating\"] != 5]"
   ]
  },
  {
   "cell_type": "code",
   "execution_count": 18,
   "metadata": {},
   "outputs": [
    {
     "data": {
      "text/plain": [
       "basic_description\n",
       "rental unit    15\n",
       "condo          14\n",
       "home            9\n",
       "guesthouse      2\n",
       "guest suite     2\n",
       "Room            1\n",
       "Name: count, dtype: int64"
      ]
     },
     "execution_count": 18,
     "metadata": {},
     "output_type": "execute_result"
    }
   ],
   "source": [
    "listings_5_rating[\"basic_description\"].value_counts()"
   ]
  },
  {
   "cell_type": "markdown",
   "metadata": {},
   "source": [
    "We can observe that our underserved property types (Cottages, Townhouses, and Lofts) does not have perfect rating, therefore, this creates a market gap for top quality cottages and townhouses"
   ]
  },
  {
   "cell_type": "code",
   "execution_count": 19,
   "metadata": {},
   "outputs": [
    {
     "name": "stdout",
     "output_type": "stream",
     "text": [
      "Number of superhost with rating = 5 is: 30, which is 69.77% of total listings with rating = 5\n"
     ]
    }
   ],
   "source": [
    "## number of superhost with rating = 5\n",
    "num_superhost_5_rating = listings_5_rating[\"superhost\"].sum()\n",
    "print(\n",
    "    f\"Number of superhost with rating = 5 is: {num_superhost_5_rating}, which is {np.round(num_superhost_5_rating/num_listings_5_rating*100, 2)}% of total listings with rating = 5\"\n",
    ")"
   ]
  },
  {
   "cell_type": "code",
   "execution_count": 20,
   "metadata": {},
   "outputs": [
    {
     "name": "stdout",
     "output_type": "stream",
     "text": [
      "Number of superhost with rating = 5 is: 159, which is 82.81% of total listings with rating = 5\n"
     ]
    }
   ],
   "source": [
    "## number of superhost with rating not 5\n",
    "num_listings_non_5_rating = listings_non_5_rating.shape[0]\n",
    "num_superhost_non_5_rating = listings_non_5_rating[\"superhost\"].sum()\n",
    "print(\n",
    "    f\"Number of superhost with rating = 5 is: {num_superhost_non_5_rating}, which is {np.round(num_superhost_non_5_rating/num_listings_non_5_rating*100, 2)}% of total listings with rating = 5\"\n",
    ")"
   ]
  },
  {
   "cell_type": "markdown",
   "metadata": {},
   "source": [
    "Therefore, being a superhost might not impact your ratings"
   ]
  },
  {
   "cell_type": "code",
   "execution_count": 21,
   "metadata": {},
   "outputs": [
    {
     "name": "stdout",
     "output_type": "stream",
     "text": [
      "Median per night price for rating = 5 properties is: 120.0\n"
     ]
    }
   ],
   "source": [
    "## median price for rating = 5 properties\n",
    "median_price_5_rating = listings_5_rating[\"Per_Night\"].median()\n",
    "print(f\"Median per night price for rating = 5 properties is: {median_price_5_rating}\")"
   ]
  },
  {
   "cell_type": "code",
   "execution_count": 22,
   "metadata": {},
   "outputs": [
    {
     "name": "stdout",
     "output_type": "stream",
     "text": [
      "Median per night price for rating not 5 properties is: 100.0\n"
     ]
    }
   ],
   "source": [
    "## median price for rating not = 5 properties\n",
    "median_price_non_5_rating = listings_non_5_rating[\"Per_Night\"].median()\n",
    "print(f\"Median per night price for rating not 5 properties is: {median_price_non_5_rating}\")"
   ]
  },
  {
   "cell_type": "markdown",
   "metadata": {},
   "source": [
    "Therefore, having a perfect rating can impact your price per night as you can charge more."
   ]
  },
  {
   "cell_type": "code",
   "execution_count": 23,
   "metadata": {},
   "outputs": [
    {
     "name": "stdout",
     "output_type": "stream",
     "text": [
      "Median cleaning fee for rating = 5 properties is: 90.0\n",
      "Median cleaning fee for rating not 5 properties is: 72.0\n"
     ]
    }
   ],
   "source": [
    "## median cleaning fee for rating = 5 properties\n",
    "median_cleaning_fee_5_rating = listings_5_rating[\"Cleaning_Fee\"].median()\n",
    "## median cleaning fee for rating not = 5 properties\n",
    "median_cleaning_fee_non_5_rating = listings_non_5_rating[\"Cleaning_Fee\"].median()\n",
    "print(\n",
    "    f\"Median cleaning fee for rating = 5 properties is: {median_cleaning_fee_5_rating}\"\n",
    ")\n",
    "print(\n",
    "    f\"Median cleaning fee for rating not 5 properties is: {median_cleaning_fee_non_5_rating}\"\n",
    ")"
   ]
  },
  {
   "cell_type": "code",
   "execution_count": 24,
   "metadata": {},
   "outputs": [
    {
     "name": "stdout",
     "output_type": "stream",
     "text": [
      "Median Airbnb fee for rating = 5 properties is: 81.0\n",
      "Median Airbnb fee for rating not 5 properties is: 75.5\n"
     ]
    }
   ],
   "source": [
    "## Airbnb fee for rating = 5 properties\n",
    "airbnb_fee_5_rating = listings_5_rating[\"Airbnb_Fee\"].median()\n",
    "## Airbnb fee for rating not = 5 properties\n",
    "airbnb_fee_non_5_rating = listings_non_5_rating[\"Airbnb_Fee\"].median()\n",
    "print(f\"Median Airbnb fee for rating = 5 properties is: {airbnb_fee_5_rating}\")\n",
    "print(f\"Median Airbnb fee for rating not 5 properties is: {airbnb_fee_non_5_rating}\")"
   ]
  },
  {
   "cell_type": "markdown",
   "metadata": {},
   "source": [
    "Rating 5 properties are charging more for the cleaning and the Airbnb is also charging slightly more. Therefore, the host should focus on getting a perfect rating in order to start charging more."
   ]
  },
  {
   "cell_type": "code",
   "execution_count": 25,
   "metadata": {},
   "outputs": [
    {
     "name": "stdout",
     "output_type": "stream",
     "text": [
      "Median beds for rating = 5 properties is: 2.0\n",
      "Median bedrooms for rating = 5 properties is: 2.0\n",
      "Median guests_included for rating = 5 properties is: 4.0\n"
     ]
    }
   ],
   "source": [
    "## Get median beds, bedrooms and guests_included for rating = 5 properties\n",
    "median_beds_5_rating = listings_5_rating[\"Beds\"].median()\n",
    "median_bedrooms_5_rating = listings_5_rating[\"Bedrooms\"].median()\n",
    "median_guests_included_5_rating = listings_5_rating[\"Guests\"].median()\n",
    "print(f\"Median beds for rating = 5 properties is: {median_beds_5_rating}\")\n",
    "print(f\"Median bedrooms for rating = 5 properties is: {median_bedrooms_5_rating}\")\n",
    "print(\n",
    "    f\"Median guests_included for rating = 5 properties is: {median_guests_included_5_rating}\"\n",
    ")"
   ]
  },
  {
   "cell_type": "code",
   "execution_count": 26,
   "metadata": {},
   "outputs": [
    {
     "name": "stdout",
     "output_type": "stream",
     "text": [
      "Median beds for rating not 5 properties is: 2.0\n",
      "Median bedrooms for rating not 5 properties is: 1.0\n",
      "Median guests_included for rating not 5 properties is: 4.0\n"
     ]
    }
   ],
   "source": [
    "## Get median beds, bedrooms and guests_included for rating not = 5 properties\n",
    "median_beds_non_5_rating = listings_non_5_rating[\"Beds\"].median()\n",
    "median_bedrooms_non_5_rating = listings_non_5_rating[\"Bedrooms\"].median()\n",
    "median_guests_included_non_5_rating = listings_non_5_rating[\"Guests\"].median()\n",
    "print(f\"Median beds for rating not 5 properties is: {median_beds_non_5_rating}\")\n",
    "print(f\"Median bedrooms for rating not 5 properties is: {median_bedrooms_non_5_rating}\")\n",
    "print(\n",
    "    f\"Median guests_included for rating not 5 properties is: {median_guests_included_non_5_rating}\"\n",
    ")"
   ]
  },
  {
   "cell_type": "code",
   "execution_count": 27,
   "metadata": {},
   "outputs": [
    {
     "name": "stdout",
     "output_type": "stream",
     "text": [
      "Median cleanliness rating for rating = 5 properties is: 5.0\n",
      "Median accuracy rating for rating = 5 properties is: 5.0\n",
      "Median checkin rating for rating = 5 properties is: 5.0\n",
      "Median communication rating for rating = 5 properties is: 5.0\n",
      "Median location rating for rating = 5 properties is: 5.0\n",
      "Median value rating for rating = 5 properties is: 5.0\n"
     ]
    }
   ],
   "source": [
    "## 'cleanliness_rating', 'accuracy_rating', 'checkin_rating', 'communication_rating', 'location_rating', 'value_rating' for rating = 5 properties\n",
    "print(\n",
    "    f\"Median cleanliness rating for rating = 5 properties is: {listings_5_rating['cleanliness_rating'].median()}\"\n",
    ")\n",
    "print(\n",
    "    f\"Median accuracy rating for rating = 5 properties is: {listings_5_rating['accuracy_rating'].median()}\"\n",
    ")\n",
    "print(\n",
    "    f\"Median checkin rating for rating = 5 properties is: {listings_5_rating['checkin_rating'].median()}\"\n",
    ")\n",
    "print(\n",
    "    f\"Median communication rating for rating = 5 properties is: {listings_5_rating['communication_rating'].median()}\"\n",
    ")\n",
    "print(\n",
    "    f\"Median location rating for rating = 5 properties is: {listings_5_rating['location_rating'].median()}\"\n",
    ")\n",
    "print(\n",
    "    f\"Median value rating for rating = 5 properties is: {listings_5_rating['value_rating'].median()}\"\n",
    ")"
   ]
  },
  {
   "cell_type": "code",
   "execution_count": 28,
   "metadata": {},
   "outputs": [
    {
     "name": "stdout",
     "output_type": "stream",
     "text": [
      "Median cleanliness rating for rating not 5 properties is: 4.9\n",
      "Median accuracy rating for rating not 5 properties is: 4.9\n",
      "Median checkin rating for rating not 5 properties is: 4.9\n",
      "Median communication rating for rating not 5 properties is: 5.0\n",
      "Median location rating for rating not 5 properties is: 4.9\n",
      "Median value rating for rating not 5 properties is: 4.8\n"
     ]
    }
   ],
   "source": [
    "## 'cleanliness_rating', 'accuracy_rating', 'checkin_rating', 'communication_rating', 'location_rating', 'value_rating' for rating not = 5 properties\n",
    "print(\n",
    "    f\"Median cleanliness rating for rating not 5 properties is: {listings_non_5_rating['cleanliness_rating'].median()}\"\n",
    ")\n",
    "print(\n",
    "    f\"Median accuracy rating for rating not 5 properties is: {listings_non_5_rating['accuracy_rating'].median()}\"\n",
    ")\n",
    "print(\n",
    "    f\"Median checkin rating for rating not 5 properties is: {listings_non_5_rating['checkin_rating'].median()}\"\n",
    ")\n",
    "print(\n",
    "    f\"Median communication rating for rating not 5 properties is: {listings_non_5_rating['communication_rating'].median()}\"\n",
    ")\n",
    "print(\n",
    "    f\"Median location rating for rating not 5 properties is: {listings_non_5_rating['location_rating'].median()}\"\n",
    ")\n",
    "print(\n",
    "    f\"Median value rating for rating not 5 properties is: {listings_non_5_rating['value_rating'].median()}\"\n",
    ")"
   ]
  },
  {
   "cell_type": "markdown",
   "metadata": {},
   "source": [
    "The listings with perfect rating have perfect rating for each metric including cleanliness, checkin, communication, location, and value. "
   ]
  },
  {
   "cell_type": "markdown",
   "metadata": {},
   "source": [
    "### Amenitites"
   ]
  },
  {
   "cell_type": "code",
   "execution_count": 29,
   "metadata": {},
   "outputs": [],
   "source": [
    "df[\"Available_Amenities\"] = df[\"Available_Amenities\"].apply(ast.literal_eval)\n",
    "df[\"Unavailable_Amenities\"] = df[\"Unavailable_Amenities\"].apply(ast.literal_eval)"
   ]
  },
  {
   "cell_type": "code",
   "execution_count": 30,
   "metadata": {},
   "outputs": [
    {
     "data": {
      "text/plain": [
       "['Hair dryer',\n",
       " 'Hot water',\n",
       " 'Washer',\n",
       " 'HDTV',\n",
       " 'Central heating',\n",
       " 'Exterior security cameras on property',\n",
       " 'Smoke alarm',\n",
       " 'Carbon monoxide alarm',\n",
       " 'Fire extinguisher',\n",
       " 'Wifi',\n",
       " 'Dedicated workspace',\n",
       " 'Kitchen',\n",
       " 'Coffee maker',\n",
       " 'Free parking',\n",
       " 'Self check-in',\n",
       " 'Keypad']"
      ]
     },
     "execution_count": 30,
     "metadata": {},
     "output_type": "execute_result"
    }
   ],
   "source": [
    "df[\"Available_Amenities\"][0]"
   ]
  },
  {
   "cell_type": "code",
   "execution_count": 31,
   "metadata": {},
   "outputs": [],
   "source": [
    "def get_amenities(df):\n",
    "    amenities = df[\"Available_Amenities\"].sum()\n",
    "    amenities = pd.Series(amenities)\n",
    "    amenities = amenities.value_counts().reset_index()\n",
    "    amenities.columns = [\"Amenity\", \"Count\"]\n",
    "    amenities = amenities.sort_values(\"Count\", ascending=False)\n",
    "    return amenities"
   ]
  },
  {
   "cell_type": "code",
   "execution_count": 32,
   "metadata": {},
   "outputs": [
    {
     "data": {
      "text/html": [
       "<div>\n",
       "<style scoped>\n",
       "    .dataframe tbody tr th:only-of-type {\n",
       "        vertical-align: middle;\n",
       "    }\n",
       "\n",
       "    .dataframe tbody tr th {\n",
       "        vertical-align: top;\n",
       "    }\n",
       "\n",
       "    .dataframe thead th {\n",
       "        text-align: right;\n",
       "    }\n",
       "</style>\n",
       "<table border=\"1\" class=\"dataframe\">\n",
       "  <thead>\n",
       "    <tr style=\"text-align: right;\">\n",
       "      <th></th>\n",
       "      <th>Amenity</th>\n",
       "      <th>Count</th>\n",
       "    </tr>\n",
       "  </thead>\n",
       "  <tbody>\n",
       "    <tr>\n",
       "      <th>0</th>\n",
       "      <td>Wifi</td>\n",
       "      <td>272</td>\n",
       "    </tr>\n",
       "    <tr>\n",
       "      <th>1</th>\n",
       "      <td>HDTV</td>\n",
       "      <td>266</td>\n",
       "    </tr>\n",
       "    <tr>\n",
       "      <th>2</th>\n",
       "      <td>Smoke alarm</td>\n",
       "      <td>263</td>\n",
       "    </tr>\n",
       "    <tr>\n",
       "      <th>3</th>\n",
       "      <td>Kitchen</td>\n",
       "      <td>258</td>\n",
       "    </tr>\n",
       "    <tr>\n",
       "      <th>4</th>\n",
       "      <td>Hot water</td>\n",
       "      <td>256</td>\n",
       "    </tr>\n",
       "    <tr>\n",
       "      <th>5</th>\n",
       "      <td>Carbon monoxide alarm</td>\n",
       "      <td>243</td>\n",
       "    </tr>\n",
       "    <tr>\n",
       "      <th>6</th>\n",
       "      <td>Shampoo</td>\n",
       "      <td>242</td>\n",
       "    </tr>\n",
       "    <tr>\n",
       "      <th>7</th>\n",
       "      <td>Dishes and silverware</td>\n",
       "      <td>242</td>\n",
       "    </tr>\n",
       "    <tr>\n",
       "      <th>8</th>\n",
       "      <td>Microwave</td>\n",
       "      <td>238</td>\n",
       "    </tr>\n",
       "    <tr>\n",
       "      <th>9</th>\n",
       "      <td>Bed linens</td>\n",
       "      <td>238</td>\n",
       "    </tr>\n",
       "  </tbody>\n",
       "</table>\n",
       "</div>"
      ],
      "text/plain": [
       "                 Amenity  Count\n",
       "0                   Wifi    272\n",
       "1                   HDTV    266\n",
       "2            Smoke alarm    263\n",
       "3                Kitchen    258\n",
       "4              Hot water    256\n",
       "5  Carbon monoxide alarm    243\n",
       "6                Shampoo    242\n",
       "7  Dishes and silverware    242\n",
       "8              Microwave    238\n",
       "9             Bed linens    238"
      ]
     },
     "execution_count": 32,
     "metadata": {},
     "output_type": "execute_result"
    }
   ],
   "source": [
    "## get the most used amenities\n",
    "amenities = get_amenities(df)\n",
    "amenities.head(10)"
   ]
  },
  {
   "cell_type": "code",
   "execution_count": 33,
   "metadata": {},
   "outputs": [
    {
     "data": {
      "text/html": [
       "<div>\n",
       "<style scoped>\n",
       "    .dataframe tbody tr th:only-of-type {\n",
       "        vertical-align: middle;\n",
       "    }\n",
       "\n",
       "    .dataframe tbody tr th {\n",
       "        vertical-align: top;\n",
       "    }\n",
       "\n",
       "    .dataframe thead th {\n",
       "        text-align: right;\n",
       "    }\n",
       "</style>\n",
       "<table border=\"1\" class=\"dataframe\">\n",
       "  <thead>\n",
       "    <tr style=\"text-align: right;\">\n",
       "      <th></th>\n",
       "      <th>Amenity</th>\n",
       "      <th>Count</th>\n",
       "    </tr>\n",
       "  </thead>\n",
       "  <tbody>\n",
       "    <tr>\n",
       "      <th>190</th>\n",
       "      <td>Building staff</td>\n",
       "      <td>1</td>\n",
       "    </tr>\n",
       "    <tr>\n",
       "      <th>199</th>\n",
       "      <td>Shared outdoor pool – available seasonally, op...</td>\n",
       "      <td>1</td>\n",
       "    </tr>\n",
       "    <tr>\n",
       "      <th>191</th>\n",
       "      <td>Booster-seat high chair – always at the listing</td>\n",
       "      <td>1</td>\n",
       "    </tr>\n",
       "    <tr>\n",
       "      <th>192</th>\n",
       "      <td>Baby monitor</td>\n",
       "      <td>1</td>\n",
       "    </tr>\n",
       "    <tr>\n",
       "      <th>193</th>\n",
       "      <td>Shared outdoor pool – available seasonally, op...</td>\n",
       "      <td>1</td>\n",
       "    </tr>\n",
       "    <tr>\n",
       "      <th>194</th>\n",
       "      <td>Clamp-on-table-seat high chair – always at the...</td>\n",
       "      <td>1</td>\n",
       "    </tr>\n",
       "    <tr>\n",
       "      <th>195</th>\n",
       "      <td>Clothing storage: walk-in closet, closet, ward...</td>\n",
       "      <td>1</td>\n",
       "    </tr>\n",
       "    <tr>\n",
       "      <th>197</th>\n",
       "      <td>High chair – available upon request</td>\n",
       "      <td>1</td>\n",
       "    </tr>\n",
       "    <tr>\n",
       "      <th>198</th>\n",
       "      <td>Game console</td>\n",
       "      <td>1</td>\n",
       "    </tr>\n",
       "    <tr>\n",
       "      <th>220</th>\n",
       "      <td>Clothing storage: walk-in closet and dresser</td>\n",
       "      <td>1</td>\n",
       "    </tr>\n",
       "  </tbody>\n",
       "</table>\n",
       "</div>"
      ],
      "text/plain": [
       "                                               Amenity  Count\n",
       "190                                     Building staff      1\n",
       "199  Shared outdoor pool – available seasonally, op...      1\n",
       "191    Booster-seat high chair – always at the listing      1\n",
       "192                                       Baby monitor      1\n",
       "193  Shared outdoor pool – available seasonally, op...      1\n",
       "194  Clamp-on-table-seat high chair – always at the...      1\n",
       "195  Clothing storage: walk-in closet, closet, ward...      1\n",
       "197                High chair – available upon request      1\n",
       "198                                       Game console      1\n",
       "220       Clothing storage: walk-in closet and dresser      1"
      ]
     },
     "execution_count": 33,
     "metadata": {},
     "output_type": "execute_result"
    }
   ],
   "source": [
    "## least used amenities\n",
    "amenities.tail(10)"
   ]
  },
  {
   "cell_type": "markdown",
   "metadata": {},
   "source": [
    "### underserved amenitites"
   ]
  },
  {
   "cell_type": "code",
   "execution_count": 34,
   "metadata": {},
   "outputs": [],
   "source": [
    "def unederserved_amenities(df, amenity):\n",
    "    df_amenity = df[df[\"Available_Amenities\"].apply(lambda x: amenity in x)]\n",
    "    ## number of listings with the amenity\n",
    "    print(f\"Number of listings with {amenity}: {df_amenity.shape[0]}\")\n",
    "    print(\"*\" * 15)\n",
    "    ## median price per night\n",
    "    print(\n",
    "        f\"Median per night price for places with {amenity}: {df_amenity['Per_Night'].median()}\"\n",
    "    )\n",
    "    print(f\"Median per night price overall: {df['Per_Night'].median()}\")\n",
    "    print(\"*\" * 15)\n",
    "    ## median number of reviews\n",
    "    print(\n",
    "        f\"Median number of reviews for places with {amenity}: {df_amenity['num_reviews'].median()}\"\n",
    "    )\n",
    "    print(f\"Median number of reviews  overall: {df['num_reviews'].median()}\")\n",
    "    print(\"*\" * 15)\n",
    "    ## median rating\n",
    "    print(\n",
    "        f\"Median rating for places with {amenity}: {df_amenity['average_rating'].median()}\"\n",
    "    )\n",
    "    print(f\"Median rating overall: {df['average_rating'].median()}\")"
   ]
  },
  {
   "cell_type": "code",
   "execution_count": 35,
   "metadata": {},
   "outputs": [
    {
     "name": "stdout",
     "output_type": "stream",
     "text": [
      "Number of listings with Host greets you: 8\n",
      "***************\n",
      "Median per night price for places with Host greets you: 121.5\n",
      "Median per night price overall: 102.0\n",
      "***************\n",
      "Median number of reviews for places with Host greets you: 57.0\n",
      "Median number of reviews  overall: 45.0\n",
      "***************\n",
      "Median rating for places with Host greets you: 4.945\n",
      "Median rating overall: 4.9\n"
     ]
    }
   ],
   "source": [
    "unederserved_amenities(df, \"Host greets you\")"
   ]
  },
  {
   "cell_type": "code",
   "execution_count": 36,
   "metadata": {},
   "outputs": [
    {
     "name": "stdout",
     "output_type": "stream",
     "text": [
      "Number of listings with City skyline view: 64\n",
      "***************\n",
      "Median per night price for places with City skyline view: 109.5\n",
      "Median per night price overall: 102.0\n",
      "***************\n",
      "Median number of reviews for places with City skyline view: 69.5\n",
      "Median number of reviews  overall: 45.0\n",
      "***************\n",
      "Median rating for places with City skyline view: 4.92\n",
      "Median rating overall: 4.9\n"
     ]
    }
   ],
   "source": [
    "unederserved_amenities(df, \"City skyline view\")"
   ]
  },
  {
   "cell_type": "code",
   "execution_count": 37,
   "metadata": {},
   "outputs": [
    {
     "name": "stdout",
     "output_type": "stream",
     "text": [
      "Number of listings with Luggage drop-off allowed: 84\n",
      "***************\n",
      "Median per night price for places with Luggage drop-off allowed: 99.0\n",
      "Median per night price overall: 102.0\n",
      "***************\n",
      "Median number of reviews for places with Luggage drop-off allowed: 60.5\n",
      "Median number of reviews  overall: 45.0\n",
      "***************\n",
      "Median rating for places with Luggage drop-off allowed: 4.9\n",
      "Median rating overall: 4.9\n"
     ]
    }
   ],
   "source": [
    "unederserved_amenities(df, \"Luggage drop-off allowed\")"
   ]
  },
  {
   "cell_type": "code",
   "execution_count": 38,
   "metadata": {},
   "outputs": [
    {
     "name": "stdout",
     "output_type": "stream",
     "text": [
      "Number of listings with Gym: 26\n",
      "***************\n",
      "Median per night price for places with Gym: 117.0\n",
      "Median per night price overall: 102.0\n",
      "***************\n",
      "Median number of reviews for places with Gym: 61.0\n",
      "Median number of reviews  overall: 45.0\n",
      "***************\n",
      "Median rating for places with Gym: 4.96\n",
      "Median rating overall: 4.9\n"
     ]
    }
   ],
   "source": [
    "unederserved_amenities(df, \"Gym\")"
   ]
  },
  {
   "cell_type": "code",
   "execution_count": 39,
   "metadata": {},
   "outputs": [
    {
     "name": "stdout",
     "output_type": "stream",
     "text": [
      "Number of listings with Hot tub: 7\n",
      "***************\n",
      "Median per night price for places with Hot tub: 142.0\n",
      "Median per night price overall: 102.0\n",
      "***************\n",
      "Median number of reviews for places with Hot tub: 125.0\n",
      "Median number of reviews  overall: 45.0\n",
      "***************\n",
      "Median rating for places with Hot tub: 4.9\n",
      "Median rating overall: 4.9\n"
     ]
    }
   ],
   "source": [
    "unederserved_amenities(df, \"Hot tub\")"
   ]
  },
  {
   "cell_type": "code",
   "execution_count": 40,
   "metadata": {},
   "outputs": [
    {
     "name": "stdout",
     "output_type": "stream",
     "text": [
      "Number of listings with EV charger: 14\n",
      "***************\n",
      "Median per night price for places with EV charger: 120.0\n",
      "Median per night price overall: 102.0\n",
      "***************\n",
      "Median number of reviews for places with EV charger: 62.5\n",
      "Median number of reviews  overall: 45.0\n",
      "***************\n",
      "Median rating for places with EV charger: 4.89\n",
      "Median rating overall: 4.9\n"
     ]
    }
   ],
   "source": [
    "unederserved_amenities(df, \"EV charger\")"
   ]
  },
  {
   "cell_type": "code",
   "execution_count": 41,
   "metadata": {},
   "outputs": [
    {
     "name": "stdout",
     "output_type": "stream",
     "text": [
      "Number of listings with Backyard: 68\n",
      "***************\n",
      "Median per night price for places with Backyard: 102.0\n",
      "Median per night price overall: 102.0\n",
      "***************\n",
      "Median number of reviews for places with Backyard: 74.5\n",
      "Median number of reviews  overall: 45.0\n",
      "***************\n",
      "Median rating for places with Backyard: 4.905\n",
      "Median rating overall: 4.9\n"
     ]
    }
   ],
   "source": [
    "unederserved_amenities(df, \"Backyard\")"
   ]
  },
  {
   "cell_type": "code",
   "execution_count": 42,
   "metadata": {},
   "outputs": [
    {
     "name": "stdout",
     "output_type": "stream",
     "text": [
      "Number of listings with Sauna: 3\n",
      "***************\n",
      "Median per night price for places with Sauna: 172.0\n",
      "Median per night price overall: 102.0\n",
      "***************\n",
      "Median number of reviews for places with Sauna: 175.0\n",
      "Median number of reviews  overall: 45.0\n",
      "***************\n",
      "Median rating for places with Sauna: 4.9\n",
      "Median rating overall: 4.9\n"
     ]
    }
   ],
   "source": [
    "unederserved_amenities(df, \"Sauna\")"
   ]
  },
  {
   "cell_type": "code",
   "execution_count": 43,
   "metadata": {},
   "outputs": [
    {
     "name": "stdout",
     "output_type": "stream",
     "text": [
      "Number of listings with Exterior security cameras on property: 112\n",
      "***************\n",
      "Median per night price for places with Exterior security cameras on property: 109.0\n",
      "Median per night price overall: 102.0\n",
      "***************\n",
      "Median number of reviews for places with Exterior security cameras on property: 44.5\n",
      "Median number of reviews  overall: 45.0\n",
      "***************\n",
      "Median rating for places with Exterior security cameras on property: 4.905\n",
      "Median rating overall: 4.9\n"
     ]
    }
   ],
   "source": [
    "unederserved_amenities(df, \"Exterior security cameras on property\")"
   ]
  },
  {
   "cell_type": "markdown",
   "metadata": {},
   "source": [
    "- Clearly, this area needs luxury services as it is underserved but still in demand, this include: City skyline view, Gym, Hot Tub, Sauna, EV Charger (with the expansion of EV cars, it is still underserved in the area).\n",
    "\n",
    "- Some other amenities like Greeted by host to build trust, Luggage drop-off allowed, Exterior security cameras on property can get you more calls while also chraging more compared to the rest of the area"
   ]
  },
  {
   "cell_type": "markdown",
   "metadata": {},
   "source": [
    "### Superhost"
   ]
  },
  {
   "cell_type": "code",
   "execution_count": 44,
   "metadata": {},
   "outputs": [
    {
     "name": "stdout",
     "output_type": "stream",
     "text": [
      "Number of superhost: 203, which is 75.46% of total listings\n"
     ]
    }
   ],
   "source": [
    "## Number of superhost\n",
    "num_superhost = df[\"superhost\"].sum()\n",
    "print(\n",
    "    f\"Number of superhost: {num_superhost}, which is {np.round(num_superhost/df.shape[0]*100, 2)}% of total listings\"\n",
    ")"
   ]
  },
  {
   "cell_type": "code",
   "execution_count": 45,
   "metadata": {},
   "outputs": [
    {
     "name": "stdout",
     "output_type": "stream",
     "text": [
      "Median per night price for superhost: 105.0\n",
      "Median per night price for non-superhost: 98.5\n"
     ]
    }
   ],
   "source": [
    "## median price for superhost vs non-superhost\n",
    "median_price_superhost = df[df[\"superhost\"] == 1][\"Per_Night\"].median()\n",
    "median_price_non_superhost = df[df[\"superhost\"] == 0][\"Per_Night\"].median()\n",
    "print(f\"Median per night price for superhost: {median_price_superhost}\")\n",
    "print(f\"Median per night price for non-superhost: {median_price_non_superhost}\")"
   ]
  },
  {
   "cell_type": "markdown",
   "metadata": {},
   "source": [
    "Superhost can charge slightly more as it helps the customers to trust the host"
   ]
  },
  {
   "cell_type": "markdown",
   "metadata": {},
   "source": [
    "### Number of bedrooms"
   ]
  },
  {
   "cell_type": "code",
   "execution_count": 46,
   "metadata": {},
   "outputs": [
    {
     "data": {
      "text/plain": [
       "Bedrooms\n",
       "1    145\n",
       "2     93\n",
       "3     19\n",
       "4      8\n",
       "5      4\n",
       "Name: count, dtype: int64"
      ]
     },
     "execution_count": 46,
     "metadata": {},
     "output_type": "execute_result"
    }
   ],
   "source": [
    "# bedrooms\n",
    "df[\"Bedrooms\"].value_counts()"
   ]
  },
  {
   "cell_type": "code",
   "execution_count": 49,
   "metadata": {},
   "outputs": [
    {
     "data": {
      "text/html": [
       "<div>\n",
       "<style scoped>\n",
       "    .dataframe tbody tr th:only-of-type {\n",
       "        vertical-align: middle;\n",
       "    }\n",
       "\n",
       "    .dataframe tbody tr th {\n",
       "        vertical-align: top;\n",
       "    }\n",
       "\n",
       "    .dataframe thead th {\n",
       "        text-align: right;\n",
       "    }\n",
       "</style>\n",
       "<table border=\"1\" class=\"dataframe\">\n",
       "  <thead>\n",
       "    <tr style=\"text-align: right;\">\n",
       "      <th></th>\n",
       "      <th>Bedrooms</th>\n",
       "      <th>Median Price Per Night</th>\n",
       "      <th>Median Price Per Night Per Bedroom</th>\n",
       "    </tr>\n",
       "  </thead>\n",
       "  <tbody>\n",
       "    <tr>\n",
       "      <th>4</th>\n",
       "      <td>5</td>\n",
       "      <td>250.5</td>\n",
       "      <td>50.100</td>\n",
       "    </tr>\n",
       "    <tr>\n",
       "      <th>3</th>\n",
       "      <td>4</td>\n",
       "      <td>182.5</td>\n",
       "      <td>45.625</td>\n",
       "    </tr>\n",
       "    <tr>\n",
       "      <th>2</th>\n",
       "      <td>3</td>\n",
       "      <td>138.0</td>\n",
       "      <td>46.000</td>\n",
       "    </tr>\n",
       "    <tr>\n",
       "      <th>1</th>\n",
       "      <td>2</td>\n",
       "      <td>117.0</td>\n",
       "      <td>58.500</td>\n",
       "    </tr>\n",
       "    <tr>\n",
       "      <th>0</th>\n",
       "      <td>1</td>\n",
       "      <td>92.0</td>\n",
       "      <td>92.000</td>\n",
       "    </tr>\n",
       "  </tbody>\n",
       "</table>\n",
       "</div>"
      ],
      "text/plain": [
       "   Bedrooms  Median Price Per Night  Median Price Per Night Per Bedroom\n",
       "4         5                   250.5                              50.100\n",
       "3         4                   182.5                              45.625\n",
       "2         3                   138.0                              46.000\n",
       "1         2                   117.0                              58.500\n",
       "0         1                    92.0                              92.000"
      ]
     },
     "execution_count": 49,
     "metadata": {},
     "output_type": "execute_result"
    }
   ],
   "source": [
    "## median price for each bedroom\n",
    "median_price_bedrooms = df.groupby(\"Bedrooms\")[\"Per_Night\"].median().reset_index()\n",
    "median_price_bedrooms.columns = [\"Bedrooms\", \"Median Price Per Night\"]\n",
    "median_price_per_bedroom = (\n",
    "    median_price_bedrooms[\"Median Price Per Night\"] / median_price_bedrooms[\"Bedrooms\"]\n",
    ")\n",
    "median_price_bedrooms[\"Median Price Per Night Per Bedroom\"] = median_price_per_bedroom\n",
    "median_price_bedrooms = median_price_bedrooms.sort_values(\n",
    "    \"Median Price Per Night\", ascending=False\n",
    ")\n",
    "median_price_bedrooms"
   ]
  },
  {
   "cell_type": "markdown",
   "metadata": {},
   "source": [
    "As the bedroom increases the median per night price also increases but median price per night per bedroom decreases "
   ]
  },
  {
   "cell_type": "code",
   "execution_count": 50,
   "metadata": {},
   "outputs": [
    {
     "data": {
      "text/html": [
       "<div>\n",
       "<style scoped>\n",
       "    .dataframe tbody tr th:only-of-type {\n",
       "        vertical-align: middle;\n",
       "    }\n",
       "\n",
       "    .dataframe tbody tr th {\n",
       "        vertical-align: top;\n",
       "    }\n",
       "\n",
       "    .dataframe thead th {\n",
       "        text-align: right;\n",
       "    }\n",
       "</style>\n",
       "<table border=\"1\" class=\"dataframe\">\n",
       "  <thead>\n",
       "    <tr style=\"text-align: right;\">\n",
       "      <th></th>\n",
       "      <th>Bedrooms</th>\n",
       "      <th>Median Cleaning Fee</th>\n",
       "    </tr>\n",
       "  </thead>\n",
       "  <tbody>\n",
       "    <tr>\n",
       "      <th>3</th>\n",
       "      <td>4</td>\n",
       "      <td>150.0</td>\n",
       "    </tr>\n",
       "    <tr>\n",
       "      <th>4</th>\n",
       "      <td>5</td>\n",
       "      <td>149.5</td>\n",
       "    </tr>\n",
       "    <tr>\n",
       "      <th>2</th>\n",
       "      <td>3</td>\n",
       "      <td>100.0</td>\n",
       "    </tr>\n",
       "    <tr>\n",
       "      <th>1</th>\n",
       "      <td>2</td>\n",
       "      <td>80.0</td>\n",
       "    </tr>\n",
       "    <tr>\n",
       "      <th>0</th>\n",
       "      <td>1</td>\n",
       "      <td>65.0</td>\n",
       "    </tr>\n",
       "  </tbody>\n",
       "</table>\n",
       "</div>"
      ],
      "text/plain": [
       "   Bedrooms  Median Cleaning Fee\n",
       "3         4                150.0\n",
       "4         5                149.5\n",
       "2         3                100.0\n",
       "1         2                 80.0\n",
       "0         1                 65.0"
      ]
     },
     "execution_count": 50,
     "metadata": {},
     "output_type": "execute_result"
    }
   ],
   "source": [
    "## cleaning fee for each bedroom\n",
    "median_cleaning_fee_bedrooms = np.round(\n",
    "    df.groupby(\"Bedrooms\")[\"Cleaning_Fee\"].median(), 2\n",
    ").reset_index()\n",
    "median_cleaning_fee_bedrooms.columns = [\"Bedrooms\", \"Median Cleaning Fee\"]\n",
    "median_cleaning_fee_bedrooms = median_cleaning_fee_bedrooms.sort_values(\n",
    "    \"Median Cleaning Fee\", ascending=False\n",
    ")\n",
    "median_cleaning_fee_bedrooms"
   ]
  },
  {
   "cell_type": "markdown",
   "metadata": {},
   "source": [
    "### Number of beds"
   ]
  },
  {
   "cell_type": "code",
   "execution_count": 51,
   "metadata": {},
   "outputs": [
    {
     "data": {
      "text/plain": [
       "Beds\n",
       "2     120\n",
       "1      81\n",
       "3      42\n",
       "4      16\n",
       "5       5\n",
       "6       3\n",
       "7       1\n",
       "10      1\n",
       "Name: count, dtype: int64"
      ]
     },
     "execution_count": 51,
     "metadata": {},
     "output_type": "execute_result"
    }
   ],
   "source": [
    "## number of beds\n",
    "df[\"Beds\"].value_counts()"
   ]
  },
  {
   "cell_type": "code",
   "execution_count": 54,
   "metadata": {},
   "outputs": [
    {
     "data": {
      "text/html": [
       "<div>\n",
       "<style scoped>\n",
       "    .dataframe tbody tr th:only-of-type {\n",
       "        vertical-align: middle;\n",
       "    }\n",
       "\n",
       "    .dataframe tbody tr th {\n",
       "        vertical-align: top;\n",
       "    }\n",
       "\n",
       "    .dataframe thead th {\n",
       "        text-align: right;\n",
       "    }\n",
       "</style>\n",
       "<table border=\"1\" class=\"dataframe\">\n",
       "  <thead>\n",
       "    <tr style=\"text-align: right;\">\n",
       "      <th></th>\n",
       "      <th>Beds</th>\n",
       "      <th>Median Price Per Night</th>\n",
       "      <th>Median Price Per Night Per Beds</th>\n",
       "    </tr>\n",
       "  </thead>\n",
       "  <tbody>\n",
       "    <tr>\n",
       "      <th>0</th>\n",
       "      <td>1</td>\n",
       "      <td>90.0</td>\n",
       "      <td>90.000000</td>\n",
       "    </tr>\n",
       "    <tr>\n",
       "      <th>1</th>\n",
       "      <td>2</td>\n",
       "      <td>103.0</td>\n",
       "      <td>51.500000</td>\n",
       "    </tr>\n",
       "    <tr>\n",
       "      <th>4</th>\n",
       "      <td>5</td>\n",
       "      <td>200.0</td>\n",
       "      <td>40.000000</td>\n",
       "    </tr>\n",
       "    <tr>\n",
       "      <th>2</th>\n",
       "      <td>3</td>\n",
       "      <td>112.0</td>\n",
       "      <td>37.333333</td>\n",
       "    </tr>\n",
       "    <tr>\n",
       "      <th>3</th>\n",
       "      <td>4</td>\n",
       "      <td>147.0</td>\n",
       "      <td>36.750000</td>\n",
       "    </tr>\n",
       "    <tr>\n",
       "      <th>6</th>\n",
       "      <td>7</td>\n",
       "      <td>251.0</td>\n",
       "      <td>35.857143</td>\n",
       "    </tr>\n",
       "    <tr>\n",
       "      <th>7</th>\n",
       "      <td>10</td>\n",
       "      <td>311.0</td>\n",
       "      <td>31.100000</td>\n",
       "    </tr>\n",
       "    <tr>\n",
       "      <th>5</th>\n",
       "      <td>6</td>\n",
       "      <td>170.0</td>\n",
       "      <td>28.333333</td>\n",
       "    </tr>\n",
       "  </tbody>\n",
       "</table>\n",
       "</div>"
      ],
      "text/plain": [
       "   Beds  Median Price Per Night  Median Price Per Night Per Beds\n",
       "0     1                    90.0                        90.000000\n",
       "1     2                   103.0                        51.500000\n",
       "4     5                   200.0                        40.000000\n",
       "2     3                   112.0                        37.333333\n",
       "3     4                   147.0                        36.750000\n",
       "6     7                   251.0                        35.857143\n",
       "7    10                   311.0                        31.100000\n",
       "5     6                   170.0                        28.333333"
      ]
     },
     "execution_count": 54,
     "metadata": {},
     "output_type": "execute_result"
    }
   ],
   "source": [
    "## median price for each bed\n",
    "median_price_bed = df.groupby(\"Beds\")[\"Per_Night\"].median().reset_index()\n",
    "median_price_bed.columns = [\"Beds\", \"Median Price Per Night\"]\n",
    "median_price_per_bed = (\n",
    "    median_price_bed[\"Median Price Per Night\"] / median_price_bed[\"Beds\"]\n",
    ")\n",
    "median_price_bed[\"Median Price Per Night Per Beds\"] = median_price_per_bed\n",
    "median_price_bed = median_price_bed.sort_values(\n",
    "    \"Median Price Per Night Per Beds\", ascending=False\n",
    ")\n",
    "median_price_bed"
   ]
  },
  {
   "cell_type": "markdown",
   "metadata": {},
   "source": [
    "Smaller number of beds and bedrooms in the place are more efficient as you can charge more per night per bedroom or per bed"
   ]
  },
  {
   "cell_type": "markdown",
   "metadata": {},
   "source": [
    "### Analyzing properties with 0 num_reviews so far"
   ]
  },
  {
   "cell_type": "code",
   "execution_count": 56,
   "metadata": {},
   "outputs": [
    {
     "name": "stdout",
     "output_type": "stream",
     "text": [
      "Number of properties with 0 reviews: 34\n"
     ]
    }
   ],
   "source": [
    "df_rating_zero = df[df[\"num_reviews\"] == 0]\n",
    "print(f\"Number of properties with 0 reviews: {df_rating_zero.shape[0]}\")"
   ]
  },
  {
   "cell_type": "code",
   "execution_count": 57,
   "metadata": {},
   "outputs": [
    {
     "name": "stdout",
     "output_type": "stream",
     "text": [
      "Number of properties with non-0 reviews: 235\n"
     ]
    }
   ],
   "source": [
    "df_rating_non_zero = df[df[\"num_reviews\"] != 0]\n",
    "print(f\"Number of properties with non-0 reviews: {df_rating_non_zero.shape[0]}\")"
   ]
  },
  {
   "cell_type": "code",
   "execution_count": 62,
   "metadata": {},
   "outputs": [
    {
     "data": {
      "text/plain": [
       "basic_description\n",
       "rental unit    21\n",
       "home            7\n",
       "condo           3\n",
       "Room            3\n",
       "Name: count, dtype: int64"
      ]
     },
     "execution_count": 62,
     "metadata": {},
     "output_type": "execute_result"
    }
   ],
   "source": [
    "## properties types with 0 reviews\n",
    "df_rating_zero[\"basic_description\"].value_counts()"
   ]
  },
  {
   "cell_type": "code",
   "execution_count": 58,
   "metadata": {},
   "outputs": [
    {
     "name": "stdout",
     "output_type": "stream",
     "text": [
      "Median per night price for properties with 0 reviews: 94.5\n",
      "Median per night price for properties with non-0 reviews: 102.0\n"
     ]
    }
   ],
   "source": [
    "## Comparing median price for properties with 0 reviews vs non-0 reviews\n",
    "median_price_zero_reviews = df_rating_zero[\"Per_Night\"].median()\n",
    "median_price_non_zero_reviews = df_rating_non_zero[\"Per_Night\"].median()\n",
    "print(\n",
    "    f\"Median per night price for properties with 0 reviews: {median_price_zero_reviews}\"\n",
    ")\n",
    "print(\n",
    "    f\"Median per night price for properties with non-0 reviews: {median_price_non_zero_reviews}\"\n",
    ")"
   ]
  },
  {
   "cell_type": "code",
   "execution_count": 60,
   "metadata": {},
   "outputs": [
    {
     "name": "stdout",
     "output_type": "stream",
     "text": [
      "Median cleaning fee for properties with 0 reviews: 72.5\n",
      "Median cleaning fee for properties with non-0 reviews: 75.0\n"
     ]
    }
   ],
   "source": [
    "## Comparing median cleaning fee for properties with 0 reviews vs non-0 reviews\n",
    "print(\n",
    "    f\"Median cleaning fee for properties with 0 reviews: {df_rating_zero['Cleaning_Fee'].median()}\"\n",
    ")\n",
    "print(\n",
    "    f\"Median cleaning fee for properties with non-0 reviews: {df_rating_non_zero['Cleaning_Fee'].median()}\"\n",
    ")"
   ]
  },
  {
   "cell_type": "markdown",
   "metadata": {},
   "source": [
    "The properties with 0 bookings are charging similar amount of money for cleaning, therefore, one recommendation would be to start with reduced cleaning fee and get some booking with positive reviews. This can definitely help them start getting bookings."
   ]
  },
  {
   "cell_type": "code",
   "execution_count": 61,
   "metadata": {},
   "outputs": [
    {
     "name": "stdout",
     "output_type": "stream",
     "text": [
      "Number of superhost with 0 reviews: 14, which is 41.18% of total listings with 0 reviews\n",
      "Number of superhost with non-0 reviews: 189, which is 80.43% of total listings with non-0 reviews\n"
     ]
    }
   ],
   "source": [
    "## Comparing superhost percentage\n",
    "num_superhost_zero_reviews = df_rating_zero[\"superhost\"].sum()\n",
    "num_superhost_non_zero_reviews = df_rating_non_zero[\"superhost\"].sum()\n",
    "print(\n",
    "    f\"Number of superhost with 0 reviews: {num_superhost_zero_reviews}, which is {np.round(num_superhost_zero_reviews/df_rating_zero.shape[0]*100, 2)}% of total listings with 0 reviews\"\n",
    ")\n",
    "print(\n",
    "    f\"Number of superhost with non-0 reviews: {num_superhost_non_zero_reviews}, which is {np.round(num_superhost_non_zero_reviews/df_rating_non_zero.shape[0]*100, 2)}% of total listings with non-0 reviews\"\n",
    ")"
   ]
  },
  {
   "cell_type": "markdown",
   "metadata": {},
   "source": [
    "Therefore, being a superhost can help you get started if you are not getting any booking"
   ]
  },
  {
   "cell_type": "code",
   "execution_count": 67,
   "metadata": {},
   "outputs": [
    {
     "name": "stdout",
     "output_type": "stream",
     "text": [
      "Number of hosts who have a description with 0 reviews: 25, which is 73.53% of total listings with 0 reviews\n",
      "Number of hosts who have a description with non-0 reviews: 218, which is 92.77% of total listings with non-0 reviews\n"
     ]
    }
   ],
   "source": [
    "## comparing host_description\n",
    "num_host_desc_zero_reviews = df_rating_zero[\"host_description\"].sum()\n",
    "num_host_desc_non_zero_reviews = df_rating_non_zero[\"host_description\"].sum()\n",
    "print(\n",
    "    f\"Number of hosts who have a description with 0 reviews: {num_host_desc_zero_reviews}, which is {np.round(num_host_desc_zero_reviews/df_rating_zero.shape[0]*100, 2)}% of total listings with 0 reviews\"\n",
    ")\n",
    "print(\n",
    "    f\"Number of hosts who have a description with non-0 reviews: {num_host_desc_non_zero_reviews}, which is {np.round(num_host_desc_non_zero_reviews/df_rating_non_zero.shape[0]*100, 2)}% of total listings with non-0 reviews\"\n",
    ")"
   ]
  },
  {
   "cell_type": "markdown",
   "metadata": {},
   "source": [
    "Almost all of the listings with non-0 reviews have host descriptions, which might impact the decision of a customer as it helps build trust. Therefore, another way to get bookings would be to introduce yourselves on the listing and this could help you build trust and therefore, get the bookings."
   ]
  },
  {
   "cell_type": "code",
   "execution_count": 91,
   "metadata": {},
   "outputs": [],
   "source": [
    "def get_amenities(df):\n",
    "    amenities = df[\"Available_Amenities\"].sum()\n",
    "    amenities = pd.Series(amenities)\n",
    "    amenities = amenities.value_counts().reset_index()\n",
    "    amenities.columns = [\"Amenity\", \"Count\"]\n",
    "    ## adding percentage of listings with the amenity\n",
    "    amenities[\"Percentage\"] = np.round(amenities[\"Count\"] / df.shape[0] * 100, 2)\n",
    "    amenities = amenities.sort_values(\"Count\", ascending=False)\n",
    "    return pd.DataFrame(amenities)"
   ]
  },
  {
   "cell_type": "code",
   "execution_count": 92,
   "metadata": {},
   "outputs": [
    {
     "data": {
      "text/html": [
       "<div>\n",
       "<style scoped>\n",
       "    .dataframe tbody tr th:only-of-type {\n",
       "        vertical-align: middle;\n",
       "    }\n",
       "\n",
       "    .dataframe tbody tr th {\n",
       "        vertical-align: top;\n",
       "    }\n",
       "\n",
       "    .dataframe thead th {\n",
       "        text-align: right;\n",
       "    }\n",
       "</style>\n",
       "<table border=\"1\" class=\"dataframe\">\n",
       "  <thead>\n",
       "    <tr style=\"text-align: right;\">\n",
       "      <th></th>\n",
       "      <th>Amenity</th>\n",
       "      <th>Count</th>\n",
       "      <th>Percentage</th>\n",
       "    </tr>\n",
       "  </thead>\n",
       "  <tbody>\n",
       "    <tr>\n",
       "      <th>0</th>\n",
       "      <td>HDTV</td>\n",
       "      <td>34</td>\n",
       "      <td>100.00</td>\n",
       "    </tr>\n",
       "    <tr>\n",
       "      <th>2</th>\n",
       "      <td>Kitchen</td>\n",
       "      <td>34</td>\n",
       "      <td>100.00</td>\n",
       "    </tr>\n",
       "    <tr>\n",
       "      <th>1</th>\n",
       "      <td>Wifi</td>\n",
       "      <td>34</td>\n",
       "      <td>100.00</td>\n",
       "    </tr>\n",
       "    <tr>\n",
       "      <th>3</th>\n",
       "      <td>Smoke alarm</td>\n",
       "      <td>33</td>\n",
       "      <td>97.06</td>\n",
       "    </tr>\n",
       "    <tr>\n",
       "      <th>4</th>\n",
       "      <td>Washer</td>\n",
       "      <td>30</td>\n",
       "      <td>88.24</td>\n",
       "    </tr>\n",
       "    <tr>\n",
       "      <th>5</th>\n",
       "      <td>Carbon monoxide alarm</td>\n",
       "      <td>29</td>\n",
       "      <td>85.29</td>\n",
       "    </tr>\n",
       "    <tr>\n",
       "      <th>6</th>\n",
       "      <td>Hot water</td>\n",
       "      <td>27</td>\n",
       "      <td>79.41</td>\n",
       "    </tr>\n",
       "    <tr>\n",
       "      <th>7</th>\n",
       "      <td>Bed linens</td>\n",
       "      <td>25</td>\n",
       "      <td>73.53</td>\n",
       "    </tr>\n",
       "    <tr>\n",
       "      <th>8</th>\n",
       "      <td>Microwave</td>\n",
       "      <td>24</td>\n",
       "      <td>70.59</td>\n",
       "    </tr>\n",
       "    <tr>\n",
       "      <th>9</th>\n",
       "      <td>Fire extinguisher</td>\n",
       "      <td>24</td>\n",
       "      <td>70.59</td>\n",
       "    </tr>\n",
       "  </tbody>\n",
       "</table>\n",
       "</div>"
      ],
      "text/plain": [
       "                 Amenity  Count  Percentage\n",
       "0                   HDTV     34      100.00\n",
       "2                Kitchen     34      100.00\n",
       "1                   Wifi     34      100.00\n",
       "3            Smoke alarm     33       97.06\n",
       "4                 Washer     30       88.24\n",
       "5  Carbon monoxide alarm     29       85.29\n",
       "6              Hot water     27       79.41\n",
       "7             Bed linens     25       73.53\n",
       "8              Microwave     24       70.59\n",
       "9      Fire extinguisher     24       70.59"
      ]
     },
     "execution_count": 92,
     "metadata": {},
     "output_type": "execute_result"
    }
   ],
   "source": [
    "## Comparing the amenities for properties with 0 reviews vs non-0 reviews\n",
    "amenities_zero_reviews = get_amenities(df_rating_zero)\n",
    "amenities_zero_reviews.head(10)"
   ]
  },
  {
   "cell_type": "code",
   "execution_count": 93,
   "metadata": {},
   "outputs": [
    {
     "data": {
      "text/html": [
       "<div>\n",
       "<style scoped>\n",
       "    .dataframe tbody tr th:only-of-type {\n",
       "        vertical-align: middle;\n",
       "    }\n",
       "\n",
       "    .dataframe tbody tr th {\n",
       "        vertical-align: top;\n",
       "    }\n",
       "\n",
       "    .dataframe thead th {\n",
       "        text-align: right;\n",
       "    }\n",
       "</style>\n",
       "<table border=\"1\" class=\"dataframe\">\n",
       "  <thead>\n",
       "    <tr style=\"text-align: right;\">\n",
       "      <th></th>\n",
       "      <th>Amenity</th>\n",
       "      <th>Count</th>\n",
       "      <th>Percentage</th>\n",
       "    </tr>\n",
       "  </thead>\n",
       "  <tbody>\n",
       "    <tr>\n",
       "      <th>0</th>\n",
       "      <td>Wifi</td>\n",
       "      <td>238</td>\n",
       "      <td>101.28</td>\n",
       "    </tr>\n",
       "    <tr>\n",
       "      <th>1</th>\n",
       "      <td>HDTV</td>\n",
       "      <td>232</td>\n",
       "      <td>98.72</td>\n",
       "    </tr>\n",
       "    <tr>\n",
       "      <th>2</th>\n",
       "      <td>Smoke alarm</td>\n",
       "      <td>230</td>\n",
       "      <td>97.87</td>\n",
       "    </tr>\n",
       "    <tr>\n",
       "      <th>3</th>\n",
       "      <td>Hot water</td>\n",
       "      <td>229</td>\n",
       "      <td>97.45</td>\n",
       "    </tr>\n",
       "    <tr>\n",
       "      <th>4</th>\n",
       "      <td>Kitchen</td>\n",
       "      <td>224</td>\n",
       "      <td>95.32</td>\n",
       "    </tr>\n",
       "    <tr>\n",
       "      <th>5</th>\n",
       "      <td>Shampoo</td>\n",
       "      <td>220</td>\n",
       "      <td>93.62</td>\n",
       "    </tr>\n",
       "    <tr>\n",
       "      <th>6</th>\n",
       "      <td>Dishes and silverware</td>\n",
       "      <td>220</td>\n",
       "      <td>93.62</td>\n",
       "    </tr>\n",
       "    <tr>\n",
       "      <th>7</th>\n",
       "      <td>Refrigerator</td>\n",
       "      <td>219</td>\n",
       "      <td>93.19</td>\n",
       "    </tr>\n",
       "    <tr>\n",
       "      <th>8</th>\n",
       "      <td>Coffee maker</td>\n",
       "      <td>219</td>\n",
       "      <td>93.19</td>\n",
       "    </tr>\n",
       "    <tr>\n",
       "      <th>9</th>\n",
       "      <td>Hangers</td>\n",
       "      <td>215</td>\n",
       "      <td>91.49</td>\n",
       "    </tr>\n",
       "  </tbody>\n",
       "</table>\n",
       "</div>"
      ],
      "text/plain": [
       "                 Amenity  Count  Percentage\n",
       "0                   Wifi    238      101.28\n",
       "1                   HDTV    232       98.72\n",
       "2            Smoke alarm    230       97.87\n",
       "3              Hot water    229       97.45\n",
       "4                Kitchen    224       95.32\n",
       "5                Shampoo    220       93.62\n",
       "6  Dishes and silverware    220       93.62\n",
       "7           Refrigerator    219       93.19\n",
       "8           Coffee maker    219       93.19\n",
       "9                Hangers    215       91.49"
      ]
     },
     "execution_count": 93,
     "metadata": {},
     "output_type": "execute_result"
    }
   ],
   "source": [
    "amenities_non_zero_reviews = get_amenities(df_rating_non_zero)\n",
    "amenities_non_zero_reviews.head(10)"
   ]
  },
  {
   "cell_type": "code",
   "execution_count": 102,
   "metadata": {},
   "outputs": [
    {
     "name": "stdout",
     "output_type": "stream",
     "text": [
      "Percentage of listings with coffee maker for 0 reviews properties: 52.94%\n",
      "Percentage of listings with coffee maker for non-0 reviews properties: 93.19%\n"
     ]
    }
   ],
   "source": [
    "## percentage of listings with coffee maker for 0 reviews properties vs non-0 reviews properties if it is available\n",
    "print(\n",
    "    f\"Percentage of listings with coffee maker for 0 reviews properties: {amenities_zero_reviews[amenities_zero_reviews['Amenity'] == 'Coffee maker']['Percentage'].values[0]}%\"\n",
    ")\n",
    "print(\n",
    "    f\"Percentage of listings with coffee maker for non-0 reviews properties: {amenities_non_zero_reviews[amenities_non_zero_reviews['Amenity'] == 'Coffee maker']['Percentage'].values[0]}%\"\n",
    ")"
   ]
  },
  {
   "cell_type": "code",
   "execution_count": 105,
   "metadata": {},
   "outputs": [
    {
     "name": "stdout",
     "output_type": "stream",
     "text": [
      "Percentage of listings with Refrigerator for 0 reviews properties: 50.0%\n",
      "Percentage of listings with Refrigerator for non-0 reviews properties: 93.19%\n"
     ]
    }
   ],
   "source": [
    "## percentage of listings with Refrigerator for 0 reviews properties vs non-0 reviews properties if it is available\n",
    "print(\n",
    "    f\"Percentage of listings with Refrigerator for 0 reviews properties: {amenities_zero_reviews[amenities_zero_reviews['Amenity'] == 'Refrigerator']['Percentage'].values[0]}%\"\n",
    ")\n",
    "print(\n",
    "    f\"Percentage of listings with Refrigerator for non-0 reviews properties: {amenities_non_zero_reviews[amenities_non_zero_reviews['Amenity'] == 'Refrigerator']['Percentage'].values[0]}%\"\n",
    ")"
   ]
  },
  {
   "cell_type": "code",
   "execution_count": 107,
   "metadata": {},
   "outputs": [
    {
     "name": "stdout",
     "output_type": "stream",
     "text": [
      "Percentage of listings with Outdoor furniture for 0 reviews properties: 20.59%\n",
      "Percentage of listings with Outdoor furniture for non-0 reviews properties: 48.94%\n"
     ]
    }
   ],
   "source": [
    "## percentage of listings with Outdoor furniture for 0 reviews properties vs non-0 reviews properties if it is available\n",
    "print(\n",
    "    f\"Percentage of listings with Outdoor furniture for 0 reviews properties: {amenities_zero_reviews[amenities_zero_reviews['Amenity'] == 'Outdoor furniture']['Percentage'].values[0]}%\"\n",
    ")\n",
    "print(\n",
    "    f\"Percentage of listings with Outdoor furniture for non-0 reviews properties: {amenities_non_zero_reviews[amenities_non_zero_reviews['Amenity'] == 'Outdoor furniture']['Percentage'].values[0]}%\"\n",
    ")"
   ]
  },
  {
   "cell_type": "code",
   "execution_count": 108,
   "metadata": {},
   "outputs": [
    {
     "name": "stdout",
     "output_type": "stream",
     "text": [
      "Percentage of listings with Exterior security cameras on property for 0 reviews properties: 17.65%\n",
      "Percentage of listings with Exterior security cameras on property for non-0 reviews properties: 45.11%\n"
     ]
    }
   ],
   "source": [
    "## percentage of listings with Exterior security cameras on property for 0 reviews properties vs non-0 reviews properties if it is available\n",
    "print(\n",
    "    f\"Percentage of listings with Exterior security cameras on property for 0 reviews properties: {amenities_zero_reviews[amenities_zero_reviews['Amenity'] == 'Exterior security cameras on property']['Percentage'].values[0]}%\"\n",
    ")\n",
    "print(\n",
    "    f\"Percentage of listings with Exterior security cameras on property for non-0 reviews properties: {amenities_non_zero_reviews[amenities_non_zero_reviews['Amenity'] == 'Exterior security cameras on property']['Percentage'].values[0]}%\"\n",
    ")"
   ]
  },
  {
   "cell_type": "markdown",
   "metadata": {},
   "source": [
    "Therefore, the properties with no reviews (no bookings) so far, they need to invest in basic amenities such as Coffee maker, refrigerator which is available in almost all of the properties with non-0 reviews, while only 50% of properties that have 0 reviews provide those basic amenities. Further, these properties can provide some other facilities such as Outdoor furniture and Exterior security cameras on property to further attract customers."
   ]
  }
 ],
 "metadata": {
  "kernelspec": {
   "display_name": "Python 3",
   "language": "python",
   "name": "python3"
  },
  "language_info": {
   "codemirror_mode": {
    "name": "ipython",
    "version": 3
   },
   "file_extension": ".py",
   "mimetype": "text/x-python",
   "name": "python",
   "nbconvert_exporter": "python",
   "pygments_lexer": "ipython3",
   "version": "3.11.0"
  }
 },
 "nbformat": 4,
 "nbformat_minor": 2
}
